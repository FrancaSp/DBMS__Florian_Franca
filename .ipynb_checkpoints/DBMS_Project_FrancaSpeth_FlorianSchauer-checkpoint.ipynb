{
 "cells": [
  {
   "cell_type": "code",
   "execution_count": 1,
   "metadata": {},
   "outputs": [],
   "source": [
    "import pandas as pd\n",
    "#from sklearn.datasets import load_boston\n",
    "from sklearn.model_selection import train_test_split\n",
    "\n",
    "import os \n",
    "pathdata = os.getcwd() + \"/Data/HRDataset_v13.csv\""
   ]
  },
  {
   "cell_type": "markdown",
   "metadata": {},
   "source": [
    "Licence Information for the Data used can be seen in the follownig webside: https://creativecommons.org/licenses/by-sa/4.0/"
   ]
  },
  {
   "cell_type": "code",
   "execution_count": 2,
   "metadata": {},
   "outputs": [],
   "source": [
    "df = pd.read_csv(\n",
    "    pathdata,\n",
    "    header=None)"
   ]
  },
  {
   "cell_type": "code",
   "execution_count": 3,
   "metadata": {},
   "outputs": [],
   "source": [
    "#print(df.head())\n",
    "df.columns = [\n",
    "    \"Emplyee_Name\", \"EmpID\", \"MarriedID\", \"MaritalStatusID\", \"GenderID\",\n",
    "    \"EmpStatusID\", \"DeptID\", \"PerfScoreID\", \"FromDiversityJobFairID\", \"PayRate\",\n",
    "    \"Termd\", \"PositionID\", \"Position\", \"State\", \"Zip\", \"DOB\", \"Sex\", \"MaritalDesc\", \"CitizenDesc\",\n",
    "    \"HispanicLatino\", \"RaceDesc\", \"DateofHire\", \"DateofTermination\", \"TermReason\", \"EmploymentStatus\",\n",
    "    \"Department\", \"ManagerName\", \"ManagerID\", \"RecruitmentSource\", \"PerformanceScore\", \"EngagementSurvey\",\n",
    "    \"EmpSatisfaction\", \"SpecialProjectsCount\", \"LastPerformanceReview_Date\", \"DaysLateLast30\"\n",
    "]"
   ]
  },
  {
   "cell_type": "markdown",
   "metadata": {},
   "source": [
    "Since the data somehow has some rows that are only consisting of NaN, we just consider the Data within the Rows 1 to 310. \n"
   ]
  },
  {
   "cell_type": "code",
   "execution_count": 4,
   "metadata": {},
   "outputs": [
    {
     "name": "stdout",
     "output_type": "stream",
     "text": [
      "Termd\n"
     ]
    }
   ],
   "source": [
    "df = df.iloc[1:310]\n",
    "#print(df.head())\n",
    "\n",
    "print(df.columns[10])\n",
    "label = df.columns[10]\n",
    "train_cols = pd.Index([\n",
    "    \"MarriedID\", \"MaritalStatusID\", \"GenderID\", \"DeptID\", \n",
    "    \"PerfScoreID\", \"FromDiversityJobFairID\", \"PayRate\", \"PositionID\",\n",
    "    \"Sex\", \"HispanicLatino\", \"ManagerID\", \"EngagementSurvey\",\n",
    "    \"EmpSatisfaction\", \"SpecialProjectsCount\",# \"DaysLateLast30\"  \n",
    "    \"RecruitmentSource\",\"State\" \n",
    "]) \n"
   ]
  },
  {
   "cell_type": "code",
   "execution_count": 5,
   "metadata": {},
   "outputs": [],
   "source": [
    "# Fillna in manager ID with a ID -99\n",
    "df.fillna({'ManagerID':-99}, inplace=True)\n",
    "#df.fillna({'DaysLateLast30':-99}, inplace=True)\n",
    "#df = df.dropna(how='any', subset=['DaysLateLast30'])\n",
    "\n",
    "df = df.astype({\"Termd\": int, \"MaritalStatusID\": int, \"GenderID\": int, \"DeptID\": int, \"MarriedID\": int,\n",
    "           \"PerfScoreID\": int,\"PayRate\": float,\"FromDiversityJobFairID\": int, \"PositionID\": int,\"ManagerID\": int, \n",
    "           \"EngagementSurvey\": float,\"EmpSatisfaction\": int,\"SpecialProjectsCount\": int })#, \"DaysLateLast30\": int})\n",
    "\n",
    "df[\"PayRate\"] = df[\"PayRate\"].round(0).astype(int)\n",
    "df[\"EngagementSurvey\"] = df[\"EngagementSurvey\"].round(0).astype(int)\n",
    "\n",
    "# df.dtypes"
   ]
  },
  {
   "cell_type": "code",
   "execution_count": 6,
   "metadata": {},
   "outputs": [],
   "source": [
    "\n",
    "cleanup_nums = {'Sex':     {'F': 1, 'M': 0, 'M ':0},\n",
    "                'HispanicLatino': {'Yes': 1, 'No': 0},\n",
    "                'State': {'MA': 0, 'CT':1, 'TX':2,'VT':3, 'AZ':4,\n",
    "                         'NH':5, 'AL':6, 'RI':7, 'PA':8, 'OH':9, 'NY':10,\n",
    "                         'CO':11, 'NC':12,'ID':13, 'CA':14, 'NV':15, 'ME':16,'ND':17,\n",
    "                         'FL':18,'KY':19,'VA':20, 'TN':21, 'WA':22, 'OR':23, 'MT':24,\n",
    "                         'IN':25, 'GA':26, 'UT':27},\n",
    "                'RecruitmentSource': {'Employee Referral':0,'Diversity Job Fair':1,\n",
    "                                     'Search Engine - Google Bing Yahoo':2, 'Monster.com':3,\n",
    "                                     'Pay Per Click - Google':4, 'Professional Society':5,\n",
    "                                     'Newspager/Magazine':6, 'MBTA ads':7, 'Billboard':8, \n",
    "                                     'Vendor Referral':9, 'Glassdoor':10, 'Word of Mouth':11,\n",
    "                                     'Website Banner Ads':12, 'On-campus Recruiting':13,\n",
    "                                     'Social Networks - Facebook Twitter etc':14,\n",
    "                                     'Other':15, 'Indeed':16, 'Internet Search':17, 'Information Session':18,\n",
    "                                     'On-line Web application':19, 'Pay Per Click':4,#include in upper var pay per click\n",
    "                                     'Company Intranet - Partner':20, 'Careerbuilder':21},\n",
    "                'HispanicLatino': {'No': 0, 'Yes':1}\n",
    "               }\n",
    "# They used two different ways of saying yes and no, we converted those \n",
    "df = df.replace({'HispanicLatino': 'no'}, 'No')\n",
    "df = df.replace({'HispanicLatino': 'yes'}, 'Yes')\n",
    "\n",
    "df = df.replace(cleanup_nums)\n",
    "\n",
    "\n"
   ]
  },
  {
   "cell_type": "code",
   "execution_count": 7,
   "metadata": {
    "slideshow": {
     "slide_type": "-"
    }
   },
   "outputs": [
    {
     "data": {
      "text/plain": [
       "0    41\n",
       "1    21\n",
       "Name: Termd, dtype: int64"
      ]
     },
     "execution_count": 7,
     "metadata": {},
     "output_type": "execute_result"
    }
   ],
   "source": [
    "X = df[train_cols]\n",
    "y = df[label]\n",
    "y = pd.Series(y, dtype=int)\n",
    "\n",
    "\n",
    "#print(X.isnull().any())\n",
    "\n",
    "\n",
    "\n",
    "# We have to transform categorical variables to use sklearn models\n",
    "\n",
    "X_enc = pd.get_dummies(X, prefix_sep='.',columns=[ \n",
    "    \"Sex\",\"HispanicLatino\",\n",
    "    \"State\", \n",
    "    \"RecruitmentSource\"\n",
    "])\n",
    "\n",
    "feature_names = list(X_enc.columns)\n",
    "\n",
    "seed = 1  \n",
    "X_train, X_test, y_train, y_test = train_test_split(X, y, test_size=0.20, random_state=seed)\n",
    "\n",
    "#X_test.head()\n",
    "#y_train.value_counts()\n",
    "y_test.value_counts()\n"
   ]
  },
  {
   "cell_type": "code",
   "execution_count": 8,
   "metadata": {},
   "outputs": [
    {
     "name": "stdout",
     "output_type": "stream",
     "text": [
      "Accuracy: 0.7419354838709677\n",
      "Mean Absolute Error: 0.25806451612903225\n",
      "Mean Squared Error: 0.25806451612903225\n"
     ]
    }
   ],
   "source": [
    "from sklearn.ensemble import RandomForestClassifier\n",
    "from sklearn.decomposition import PCA\n",
    "from sklearn.pipeline import Pipeline\n",
    "\n",
    "#Blackbox system can include preprocessing, not just a classifier!\n",
    "pca = PCA()\n",
    "rf = RandomForestClassifier(n_estimators=100, n_jobs=-1)\n",
    "\n",
    "blackbox_model = Pipeline([('pca', pca), ('rf', rf)])\n",
    "blackbox_model.fit(X_train, y_train)\n",
    "\n",
    "y_pred=blackbox_model.predict(X_test)\n",
    "\n",
    "\n",
    "from sklearn import metrics\n",
    "# Model Accuracy, how often is the classifier correct?\n",
    "print(\"Accuracy:\",metrics.accuracy_score(y_test, y_pred))\n",
    "print('Mean Absolute Error:', metrics.mean_absolute_error(y_test, y_pred))\n",
    "print('Mean Squared Error:', metrics.mean_squared_error(y_test, y_pred))"
   ]
  },
  {
   "cell_type": "code",
   "execution_count": 9,
   "metadata": {},
   "outputs": [],
   "source": [
    "#from sklearn.tree import export_graphviz\n",
    "\n",
    "#rf.fit(X_train, y_train)\n",
    "#estimator = rf.estimators_[80]\n",
    "\n",
    "\n",
    "# Export as dot file\n",
    "#export_graphviz(estimator, \n",
    "#                out_file='tree.dot', \n",
    "#                feature_names = feature_names,\n",
    "#                class_names = ['active', 'terminated'],\n",
    "#                rounded = True, proportion = False, \n",
    "#                precision = 2, filled = True)\n",
    "\n",
    "#from subprocess import call\n",
    "#call(['dot', '-Tpng', 'tree.dot', '-o', 'tree.png', '-Gdpi=600'])\n",
    "\n",
    "#from IPython.display import Image\n",
    "#Image(filename = 'tree.png')"
   ]
  },
  {
   "cell_type": "code",
   "execution_count": 10,
   "metadata": {},
   "outputs": [
    {
     "data": {
      "text/html": [
       "<!-- http://127.0.0.1:7811/5035954808/ -->\n",
       "<iframe src=\"http://127.0.0.1:7811/5035954808/\" width=100% height=800 frameBorder=\"0\"></iframe>"
      ]
     },
     "metadata": {},
     "output_type": "display_data"
    }
   ],
   "source": [
    "from interpret import show\n",
    "from interpret.perf import ROC\n",
    "\n",
    "blackbox_perf = ROC(blackbox_model.predict_proba).explain_perf(X_test, y_test, name='Blackbox')\n",
    "show(blackbox_perf)"
   ]
  },
  {
   "cell_type": "code",
   "execution_count": 11,
   "metadata": {
    "scrolled": true
   },
   "outputs": [
    {
     "data": {
      "text/html": [
       "<!-- http://127.0.0.1:7811/4958504664/ -->\n",
       "<iframe src=\"http://127.0.0.1:7811/4958504664/\" width=100% height=800 frameBorder=\"0\"></iframe>"
      ]
     },
     "metadata": {},
     "output_type": "display_data"
    }
   ],
   "source": [
    "from interpret.blackbox import LimeTabular\n",
    "from interpret import show\n",
    "\n",
    "#Blackbox explainers need a predict function, and optionally a dataset\n",
    "lime = LimeTabular(predict_fn=blackbox_model.predict_proba, data=X_train, random_state=8)\n",
    "\n",
    "#Pick the instances to explain, optionally pass in labels if you have them\n",
    "lime_local = lime.explain_local(X_test[:10], y_test[:10], name='LIME')\n",
    "show(lime_local)"
   ]
  },
  {
   "cell_type": "code",
   "execution_count": 13,
   "metadata": {
    "slideshow": {
     "slide_type": "-"
    }
   },
   "outputs": [
    {
     "data": {
      "text/html": [
       "<!-- http://127.0.0.1:7811/4504114176/ -->\n",
       "<iframe src=\"http://127.0.0.1:7811/4504114176/\" width=100% height=800 frameBorder=\"0\"></iframe>"
      ]
     },
     "metadata": {},
     "output_type": "display_data"
    }
   ],
   "source": [
    "from interpret.blackbox import MorrisSensitivity\n",
    "\n",
    "sensitivity = MorrisSensitivity(predict_fn=blackbox_model.predict_proba, data=X_train)\n",
    "sensitivity_global = sensitivity.explain_global(name=\"Global Sensitivity\")\n",
    "\n",
    "show(sensitivity_global)"
   ]
  },
  {
   "cell_type": "code",
   "execution_count": 14,
   "metadata": {},
   "outputs": [
    {
     "data": {
      "text/html": [
       "<!-- http://127.0.0.1:7811/5073225544/ -->\n",
       "<iframe src=\"http://127.0.0.1:7811/5073225544/\" width=100% height=800 frameBorder=\"0\"></iframe>"
      ]
     },
     "metadata": {},
     "output_type": "display_data"
    }
   ],
   "source": [
    "from interpret.blackbox import PartialDependence\n",
    "\n",
    "pdp = PartialDependence(predict_fn=blackbox_model.predict_proba, data=X_train)\n",
    "pdp_global = pdp.explain_global(name='Partial Dependence')\n",
    "\n",
    "show(pdp_global)"
   ]
  },
  {
   "cell_type": "code",
   "execution_count": null,
   "metadata": {},
   "outputs": [],
   "source": []
  }
 ],
 "metadata": {
  "celltoolbar": "Slideshow",
  "kernelspec": {
   "display_name": "Python 3",
   "language": "python",
   "name": "python3"
  },
  "language_info": {
   "codemirror_mode": {
    "name": "ipython",
    "version": 3
   },
   "file_extension": ".py",
   "mimetype": "text/x-python",
   "name": "python",
   "nbconvert_exporter": "python",
   "pygments_lexer": "ipython3",
   "version": "3.6.10"
  }
 },
 "nbformat": 4,
 "nbformat_minor": 4
}
