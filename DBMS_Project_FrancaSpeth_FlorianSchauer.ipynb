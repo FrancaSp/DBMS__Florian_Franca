{
 "cells": [
  {
   "cell_type": "code",
   "execution_count": 2,
   "metadata": {},
   "outputs": [
    {
     "name": "stdout",
     "output_type": "stream",
     "text": [
      "/Users/francaspeth/DBMS_Project\n",
      "/Users/francaspeth/DBMS_Project/Data/HRDataset_v13.csv\n"
     ]
    }
   ],
   "source": [
    "import pandas as pd\n",
    "from sklearn.datasets import load_boston\n",
    "from sklearn.model_selection import train_test_split\n",
    "\n",
    "import os \n",
    "pathdata = os.getcwd() + \"/Data/HRDataset_v13.csv\"\n"
   ]
  },
  {
   "cell_type": "code",
   "execution_count": 3,
   "metadata": {},
   "outputs": [],
   "source": [
    "df = pd.read_csv(\n",
    "    pathdata,\n",
    "    header=None)"
   ]
  },
  {
   "cell_type": "code",
   "execution_count": 4,
   "metadata": {},
   "outputs": [
    {
     "name": "stdout",
     "output_type": "stream",
     "text": [
      "Index(['Emplyee_Name', 'EmpID', 'MarriedID', 'MaritalStatusID', 'GenderID',\n",
      "       'EmpStatusID', 'DeptID', 'PerfScoreID', 'FromDiversityJobFairID',\n",
      "       'PayRate', 'Termd', 'PositionID', 'Position', 'State', 'Zip', 'DOB',\n",
      "       'Sex', 'MaritalDesc', 'CitizenDesc', 'HispanicLatino', 'RaceDesc',\n",
      "       'DateofHire', 'DateofTermination', 'TermReason', 'EmploymentStatus',\n",
      "       'Department', 'ManagerName', 'ManagerID', 'RecruitmentSource',\n",
      "       'PerformanceScore', 'EngagementSurvey', 'EmpSatisfaction',\n",
      "       'SpecialProjectsCount', 'LastPerformanceReview_Date', 'DaysLateLast30'],\n",
      "      dtype='object')\n",
      "           Emplyee_Name       EmpID MarriedID MaritalStatusID GenderID  \\\n",
      "1            Brown, Mia  1103024456         1               1        0   \n",
      "2  LaRotonda, William    1106026572         0               2        1   \n",
      "3      Steans, Tyrone    1302053333         0               0        1   \n",
      "4       Howard, Estelle  1211050782         1               1        0   \n",
      "5           Singh, Nan   1307059817         0               0        0   \n",
      "\n",
      "  EmpStatusID DeptID PerfScoreID FromDiversityJobFairID PayRate  ...  \\\n",
      "1           1      1           3                      1   28.50  ...   \n",
      "2           1      1           3                      0   23.00  ...   \n",
      "3           1      1           3                      0   29.00  ...   \n",
      "4           1      1           3                      0   21.50  ...   \n",
      "5           1      1           3                      0   16.56  ...   \n",
      "\n",
      "      Department         ManagerName ManagerID       RecruitmentSource  \\\n",
      "1  Admin Offices  Brandon R. LeBlanc         1      Diversity Job Fair   \n",
      "2  Admin Offices  Brandon R. LeBlanc         1      Website Banner Ads   \n",
      "3  Admin Offices  Brandon R. LeBlanc         1         Internet Search   \n",
      "4  Admin Offices  Brandon R. LeBlanc         1  Pay Per Click - Google   \n",
      "5  Admin Offices  Brandon R. LeBlanc         1      Website Banner Ads   \n",
      "\n",
      "  PerformanceScore EngagementSurvey EmpSatisfaction SpecialProjectsCount  \\\n",
      "1      Fully Meets             2.04               2                    6   \n",
      "2      Fully Meets             5.00               4                    4   \n",
      "3      Fully Meets             3.90               5                    5   \n",
      "4      Fully Meets             3.24               3                    4   \n",
      "5      Fully Meets             5.00               3                    5   \n",
      "\n",
      "  LastPerformanceReview_Date DaysLateLast30  \n",
      "1                  1/15/2019              0  \n",
      "2                  1/17/2019              0  \n",
      "3                  1/18/2019              0  \n",
      "4                        NaN            NaN  \n",
      "5                  1/15/2019              0  \n",
      "\n",
      "[5 rows x 35 columns]\n",
      "Termd\n",
      "Index(['MarriedID', 'MaritalStatusID', 'GenderID', 'EmpStatusID', 'DeptID',\n",
      "       'PerfScoreID', 'FromDiversityJobFairID', 'PayRate', 'PositionID',\n",
      "       'State', 'Zip', 'DOB', 'Sex', 'HispanicLatino', 'DateofHire',\n",
      "       'DateofTermination', 'TermReason', 'EmploymentStatus', 'ManagerID',\n",
      "       'RecruitmentSource', 'PerformanceScore', 'EngagementSurvey',\n",
      "       'EmpSatisfaction', 'SpecialProjectsCount', 'LastPerformanceReview_Date',\n",
      "       'DaysLateLast30'],\n",
      "      dtype='object')\n"
     ]
    }
   ],
   "source": [
    "#print(df.head())\n",
    "df.columns = [\n",
    "    \"Emplyee_Name\", \"EmpID\", \"MarriedID\", \"MaritalStatusID\", \"GenderID\",\n",
    "    \"EmpStatusID\", \"DeptID\", \"PerfScoreID\", \"FromDiversityJobFairID\", \"PayRate\",\n",
    "    \"Termd\", \"PositionID\", \"Position\", \"State\", \"Zip\", \"DOB\", \"Sex\", \"MaritalDesc\", \"CitizenDesc\",\n",
    "    \"HispanicLatino\", \"RaceDesc\", \"DateofHire\", \"DateofTermination\", \"TermReason\", \"EmploymentStatus\",\n",
    "    \"Department\", \"ManagerName\", \"ManagerID\", \"RecruitmentSource\", \"PerformanceScore\", \"EngagementSurvey\",\n",
    "    \"EmpSatisfaction\", \"SpecialProjectsCount\", \"LastPerformanceReview_Date\", \"DaysLateLast30\"\n",
    "]\n",
    "print(df.columns)\n",
    "df = df.iloc[1:]\n",
    "print(df.head())\n",
    "\n",
    "print(df.columns[10])\n",
    "label = df.columns[10]\n",
    "train_cols = pd.Index([\"MarriedID\", \"MaritalStatusID\", \"GenderID\",\n",
    "    \"EmpStatusID\", \"DeptID\", \"PerfScoreID\", \"FromDiversityJobFairID\", \"PayRate\",\"PositionID\", \n",
    "    \"State\", \"Zip\", \"DOB\", \"Sex\", \n",
    "    \"HispanicLatino\", \"DateofHire\", \"DateofTermination\", \"TermReason\", \"EmploymentStatus\",\n",
    "    \"ManagerID\", \"RecruitmentSource\", \"PerformanceScore\", \"EngagementSurvey\",\n",
    "    \"EmpSatisfaction\", \"SpecialProjectsCount\", \"LastPerformanceReview_Date\", \"DaysLateLast30\"]) \n",
    "print(train_cols)"
   ]
  },
  {
   "cell_type": "code",
   "execution_count": null,
   "metadata": {},
   "outputs": [],
   "source": [
    "# TODO since we have some missing values we need to conevrt these \n",
    "# probably with this method: https://scikit-learn.org/stable/modules/impute.html\n",
    "\n",
    "\n",
    "\n",
    "# I think there could be a mistake here still \n",
    "X = df[train_cols]\n",
    "y = df[label]\n",
    "#.apply(lambda x: 0 if x == \" <=50K\" else 1) #Turning response into 0 and 1\n",
    "\n",
    "# We have to transform categorical variables to use sklearn models\n",
    "X_enc = pd.get_dummies(X, prefix_sep='.')\n",
    "feature_names = list(X_enc.columns)\n",
    "\n",
    "seed = 1  \n",
    "X_train, X_test, y_train, y_test = train_test_split(X_enc, y, test_size=0.20, random_state=seed)"
   ]
  },
  {
   "cell_type": "code",
   "execution_count": null,
   "metadata": {},
   "outputs": [],
   "source": [
    "print(X_train)"
   ]
  },
  {
   "cell_type": "code",
   "execution_count": null,
   "metadata": {},
   "outputs": [],
   "source": [
    "from sklearn.ensemble import RandomForestClassifier\n",
    "from sklearn.decomposition import PCA\n",
    "from sklearn.pipeline import Pipeline\n",
    "\n",
    "#Blackbox system can include preprocessing, not just a classifier!\n",
    "pca = PCA()\n",
    "rf = RandomForestClassifier(n_estimators=100, n_jobs=-1)\n",
    "\n",
    "blackbox_model = Pipeline([('pca', pca), ('rf', rf)])\n",
    "blackbox_model.fit(X_train, y_train)\n",
    "\n",
    "rf.fit(X_train, y_train)\n",
    "y_pred=rf.predict(X_test)\n",
    "\n",
    "from sklearn import metrics\n",
    "# Model Accuracy, how often is the classifier correct?\n",
    "print(\"Accuracy:\",metrics.accuracy_score(y_test, y_pred))"
   ]
  },
  {
   "cell_type": "code",
   "execution_count": null,
   "metadata": {},
   "outputs": [],
   "source": []
  }
 ],
 "metadata": {
  "kernelspec": {
   "display_name": "Python 3",
   "language": "python",
   "name": "python3"
  },
  "language_info": {
   "codemirror_mode": {
    "name": "ipython",
    "version": 3
   },
   "file_extension": ".py",
   "mimetype": "text/x-python",
   "name": "python",
   "nbconvert_exporter": "python",
   "pygments_lexer": "ipython3",
   "version": "3.6.10"
  }
 },
 "nbformat": 4,
 "nbformat_minor": 4
}
