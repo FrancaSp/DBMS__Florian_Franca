{
 "cells": [
  {
   "cell_type": "code",
   "execution_count": null,
   "metadata": {},
   "outputs": [],
   "source": [
    "import pandas as pd\n",
    "from sklearn.datasets import load_boston\n",
    "from sklearn.model_selection import train_test_split\n",
    "\n",
    "df = pd.read_csv(\n",
    "    \"/Users/francaspeth/Downloads/HRDataset_v13.csv\",\n",
    "    header=None)"
   ]
  },
  {
   "cell_type": "code",
   "execution_count": null,
   "metadata": {},
   "outputs": [],
   "source": [
    "#print(df.head())\n",
    "df.columns = [\n",
    "    \"Emplyee_Name\", \"EmpID\", \"MarriedID\", \"MaritalStatusID\", \"GenderID\",\n",
    "    \"EmpStatusID\", \"DeptID\", \"PerfScoreID\", \"FromDiversityJobFairID\", \"PayRate\",\n",
    "    \"Termd\", \"PositionID\", \"Position\", \"State\", \"Zip\", \"DOB\", \"Sex\", \"MaritalDesc\", \"CitizenDesc\",\n",
    "    \"HispanicLatino\", \"RaceDesc\", \"DateofHire\", \"DateofTermination\", \"TermReason\", \"EmploymentStatus\",\n",
    "    \"Department\", \"ManagerName\", \"ManagerID\", \"RecruitmentSource\", \"PerformanceScore\", \"EngagementSurvey\",\n",
    "    \"EmpSatisfaction\", \"SpecialProjectsCount\", \"LastPerformanceReview_Date\", \"DaysLateLast30\"\n",
    "]\n",
    "print(df.columns)\n",
    "df = df.iloc[1:]\n",
    "print(df.head())\n",
    "\n",
    "print(df.columns[10])\n",
    "label = df.columns[10]\n",
    "train_cols = pd.Index([\"MarriedID\", \"MaritalStatusID\", \"GenderID\",\n",
    "    \"EmpStatusID\", \"DeptID\", \"PerfScoreID\", \"FromDiversityJobFairID\", \"PayRate\",\"PositionID\", \n",
    "    \"State\", \"Zip\", \"DOB\", \"Sex\", \n",
    "    \"HispanicLatino\", \"DateofHire\", \"DateofTermination\", \"TermReason\", \"EmploymentStatus\",\n",
    "    \"ManagerID\", \"RecruitmentSource\", \"PerformanceScore\", \"EngagementSurvey\",\n",
    "    \"EmpSatisfaction\", \"SpecialProjectsCount\", \"LastPerformanceReview_Date\", \"DaysLateLast30\"]) \n",
    "print(train_cols)"
   ]
  },
  {
   "cell_type": "code",
   "execution_count": null,
   "metadata": {},
   "outputs": [],
   "source": [
    "# TODO since we have some missing values we need to conevrt these \n",
    "# probably with this method: https://scikit-learn.org/stable/modules/impute.html\n",
    "\n",
    "\n",
    "\n",
    "# I think there could be a mistake here still \n",
    "X = df[train_cols]\n",
    "y = df[label]\n",
    "#.apply(lambda x: 0 if x == \" <=50K\" else 1) #Turning response into 0 and 1\n",
    "\n",
    "# We have to transform categorical variables to use sklearn models\n",
    "X_enc = pd.get_dummies(X, prefix_sep='.')\n",
    "feature_names = list(X_enc.columns)\n",
    "\n",
    "seed = 1  \n",
    "X_train, X_test, y_train, y_test = train_test_split(X_enc, y, test_size=0.20, random_state=seed)"
   ]
  },
  {
   "cell_type": "code",
   "execution_count": null,
   "metadata": {},
   "outputs": [],
   "source": [
    "print(X_train)"
   ]
  },
  {
   "cell_type": "code",
   "execution_count": null,
   "metadata": {},
   "outputs": [],
   "source": [
    "from sklearn.ensemble import RandomForestClassifier\n",
    "from sklearn.decomposition import PCA\n",
    "from sklearn.pipeline import Pipeline\n",
    "\n",
    "#Blackbox system can include preprocessing, not just a classifier!\n",
    "pca = PCA()\n",
    "rf = RandomForestClassifier(n_estimators=100, n_jobs=-1)\n",
    "\n",
    "blackbox_model = Pipeline([('pca', pca), ('rf', rf)])\n",
    "blackbox_model.fit(X_train, y_train)\n",
    "\n",
    "rf.fit(X_train, y_train)\n",
    "y_pred=rf.predict(X_test)\n",
    "\n",
    "from sklearn import metrics\n",
    "# Model Accuracy, how often is the classifier correct?\n",
    "print(\"Accuracy:\",metrics.accuracy_score(y_test, y_pred))"
   ]
  },
  {
   "cell_type": "code",
   "execution_count": null,
   "metadata": {},
   "outputs": [],
   "source": []
  }
 ],
 "metadata": {
  "kernelspec": {
   "display_name": "Python 3",
   "language": "python",
   "name": "python3"
  },
  "language_info": {
   "codemirror_mode": {
    "name": "ipython",
    "version": 3
   },
   "file_extension": ".py",
   "mimetype": "text/x-python",
   "name": "python",
   "nbconvert_exporter": "python",
   "pygments_lexer": "ipython3",
   "version": "3.6.10"
  }
 },
 "nbformat": 4,
 "nbformat_minor": 4
}
